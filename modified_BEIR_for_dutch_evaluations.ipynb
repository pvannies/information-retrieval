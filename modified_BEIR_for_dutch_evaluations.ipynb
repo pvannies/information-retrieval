{
  "nbformat": 4,
  "nbformat_minor": 0,
  "metadata": {
    "colab": {
      "provenance": [],
      "include_colab_link": true
    },
    "kernelspec": {
      "name": "python3",
      "display_name": "Python 3"
    },
    "accelerator": "GPU",
    "widgets": {
      "application/vnd.jupyter.widget-state+json": {
        "ccfca51fe0264da1b480d298ce0e16d5": {
          "model_module": "@jupyter-widgets/controls",
          "model_name": "HBoxModel",
          "model_module_version": "1.5.0",
          "state": {
            "_dom_classes": [],
            "_model_module": "@jupyter-widgets/controls",
            "_model_module_version": "1.5.0",
            "_model_name": "HBoxModel",
            "_view_count": null,
            "_view_module": "@jupyter-widgets/controls",
            "_view_module_version": "1.5.0",
            "_view_name": "HBoxView",
            "box_style": "",
            "children": [
              "IPY_MODEL_4ecb18456c18457b87b144c3dab4379f",
              "IPY_MODEL_2328bb52fc4547579ff38fa5d6a7f108",
              "IPY_MODEL_76e599bd1dd24f61a4cbf86223bf05b0"
            ],
            "layout": "IPY_MODEL_0baa59bf512b46fcb5755c245bbebc5f"
          }
        },
        "4ecb18456c18457b87b144c3dab4379f": {
          "model_module": "@jupyter-widgets/controls",
          "model_name": "HTMLModel",
          "model_module_version": "1.5.0",
          "state": {
            "_dom_classes": [],
            "_model_module": "@jupyter-widgets/controls",
            "_model_module_version": "1.5.0",
            "_model_name": "HTMLModel",
            "_view_count": null,
            "_view_module": "@jupyter-widgets/controls",
            "_view_module_version": "1.5.0",
            "_view_name": "HTMLView",
            "description": "",
            "description_tooltip": null,
            "layout": "IPY_MODEL_ae35611eaa15417b9706ac8ab969d744",
            "placeholder": "​",
            "style": "IPY_MODEL_8a90009f47b242bf86e4f929d02cafbc",
            "value": "100%"
          }
        },
        "2328bb52fc4547579ff38fa5d6a7f108": {
          "model_module": "@jupyter-widgets/controls",
          "model_name": "FloatProgressModel",
          "model_module_version": "1.5.0",
          "state": {
            "_dom_classes": [],
            "_model_module": "@jupyter-widgets/controls",
            "_model_module_version": "1.5.0",
            "_model_name": "FloatProgressModel",
            "_view_count": null,
            "_view_module": "@jupyter-widgets/controls",
            "_view_module_version": "1.5.0",
            "_view_name": "ProgressView",
            "bar_style": "success",
            "description": "",
            "description_tooltip": null,
            "layout": "IPY_MODEL_527feb6b1b7c4b58a22ad20bebbc0f62",
            "max": 5183,
            "min": 0,
            "orientation": "horizontal",
            "style": "IPY_MODEL_e3f898413c104d19a49845e81ed72c35",
            "value": 5183
          }
        },
        "76e599bd1dd24f61a4cbf86223bf05b0": {
          "model_module": "@jupyter-widgets/controls",
          "model_name": "HTMLModel",
          "model_module_version": "1.5.0",
          "state": {
            "_dom_classes": [],
            "_model_module": "@jupyter-widgets/controls",
            "_model_module_version": "1.5.0",
            "_model_name": "HTMLModel",
            "_view_count": null,
            "_view_module": "@jupyter-widgets/controls",
            "_view_module_version": "1.5.0",
            "_view_name": "HTMLView",
            "description": "",
            "description_tooltip": null,
            "layout": "IPY_MODEL_d48302e08c9c485b996bd2140db46cb3",
            "placeholder": "​",
            "style": "IPY_MODEL_942089ad45b145a0aad31fa4220d5c7e",
            "value": " 5183/5183 [00:00&lt;00:00, 21045.55it/s]"
          }
        },
        "0baa59bf512b46fcb5755c245bbebc5f": {
          "model_module": "@jupyter-widgets/base",
          "model_name": "LayoutModel",
          "model_module_version": "1.2.0",
          "state": {
            "_model_module": "@jupyter-widgets/base",
            "_model_module_version": "1.2.0",
            "_model_name": "LayoutModel",
            "_view_count": null,
            "_view_module": "@jupyter-widgets/base",
            "_view_module_version": "1.2.0",
            "_view_name": "LayoutView",
            "align_content": null,
            "align_items": null,
            "align_self": null,
            "border": null,
            "bottom": null,
            "display": null,
            "flex": null,
            "flex_flow": null,
            "grid_area": null,
            "grid_auto_columns": null,
            "grid_auto_flow": null,
            "grid_auto_rows": null,
            "grid_column": null,
            "grid_gap": null,
            "grid_row": null,
            "grid_template_areas": null,
            "grid_template_columns": null,
            "grid_template_rows": null,
            "height": null,
            "justify_content": null,
            "justify_items": null,
            "left": null,
            "margin": null,
            "max_height": null,
            "max_width": null,
            "min_height": null,
            "min_width": null,
            "object_fit": null,
            "object_position": null,
            "order": null,
            "overflow": null,
            "overflow_x": null,
            "overflow_y": null,
            "padding": null,
            "right": null,
            "top": null,
            "visibility": null,
            "width": null
          }
        },
        "ae35611eaa15417b9706ac8ab969d744": {
          "model_module": "@jupyter-widgets/base",
          "model_name": "LayoutModel",
          "model_module_version": "1.2.0",
          "state": {
            "_model_module": "@jupyter-widgets/base",
            "_model_module_version": "1.2.0",
            "_model_name": "LayoutModel",
            "_view_count": null,
            "_view_module": "@jupyter-widgets/base",
            "_view_module_version": "1.2.0",
            "_view_name": "LayoutView",
            "align_content": null,
            "align_items": null,
            "align_self": null,
            "border": null,
            "bottom": null,
            "display": null,
            "flex": null,
            "flex_flow": null,
            "grid_area": null,
            "grid_auto_columns": null,
            "grid_auto_flow": null,
            "grid_auto_rows": null,
            "grid_column": null,
            "grid_gap": null,
            "grid_row": null,
            "grid_template_areas": null,
            "grid_template_columns": null,
            "grid_template_rows": null,
            "height": null,
            "justify_content": null,
            "justify_items": null,
            "left": null,
            "margin": null,
            "max_height": null,
            "max_width": null,
            "min_height": null,
            "min_width": null,
            "object_fit": null,
            "object_position": null,
            "order": null,
            "overflow": null,
            "overflow_x": null,
            "overflow_y": null,
            "padding": null,
            "right": null,
            "top": null,
            "visibility": null,
            "width": null
          }
        },
        "8a90009f47b242bf86e4f929d02cafbc": {
          "model_module": "@jupyter-widgets/controls",
          "model_name": "DescriptionStyleModel",
          "model_module_version": "1.5.0",
          "state": {
            "_model_module": "@jupyter-widgets/controls",
            "_model_module_version": "1.5.0",
            "_model_name": "DescriptionStyleModel",
            "_view_count": null,
            "_view_module": "@jupyter-widgets/base",
            "_view_module_version": "1.2.0",
            "_view_name": "StyleView",
            "description_width": ""
          }
        },
        "527feb6b1b7c4b58a22ad20bebbc0f62": {
          "model_module": "@jupyter-widgets/base",
          "model_name": "LayoutModel",
          "model_module_version": "1.2.0",
          "state": {
            "_model_module": "@jupyter-widgets/base",
            "_model_module_version": "1.2.0",
            "_model_name": "LayoutModel",
            "_view_count": null,
            "_view_module": "@jupyter-widgets/base",
            "_view_module_version": "1.2.0",
            "_view_name": "LayoutView",
            "align_content": null,
            "align_items": null,
            "align_self": null,
            "border": null,
            "bottom": null,
            "display": null,
            "flex": null,
            "flex_flow": null,
            "grid_area": null,
            "grid_auto_columns": null,
            "grid_auto_flow": null,
            "grid_auto_rows": null,
            "grid_column": null,
            "grid_gap": null,
            "grid_row": null,
            "grid_template_areas": null,
            "grid_template_columns": null,
            "grid_template_rows": null,
            "height": null,
            "justify_content": null,
            "justify_items": null,
            "left": null,
            "margin": null,
            "max_height": null,
            "max_width": null,
            "min_height": null,
            "min_width": null,
            "object_fit": null,
            "object_position": null,
            "order": null,
            "overflow": null,
            "overflow_x": null,
            "overflow_y": null,
            "padding": null,
            "right": null,
            "top": null,
            "visibility": null,
            "width": null
          }
        },
        "e3f898413c104d19a49845e81ed72c35": {
          "model_module": "@jupyter-widgets/controls",
          "model_name": "ProgressStyleModel",
          "model_module_version": "1.5.0",
          "state": {
            "_model_module": "@jupyter-widgets/controls",
            "_model_module_version": "1.5.0",
            "_model_name": "ProgressStyleModel",
            "_view_count": null,
            "_view_module": "@jupyter-widgets/base",
            "_view_module_version": "1.2.0",
            "_view_name": "StyleView",
            "bar_color": null,
            "description_width": ""
          }
        },
        "d48302e08c9c485b996bd2140db46cb3": {
          "model_module": "@jupyter-widgets/base",
          "model_name": "LayoutModel",
          "model_module_version": "1.2.0",
          "state": {
            "_model_module": "@jupyter-widgets/base",
            "_model_module_version": "1.2.0",
            "_model_name": "LayoutModel",
            "_view_count": null,
            "_view_module": "@jupyter-widgets/base",
            "_view_module_version": "1.2.0",
            "_view_name": "LayoutView",
            "align_content": null,
            "align_items": null,
            "align_self": null,
            "border": null,
            "bottom": null,
            "display": null,
            "flex": null,
            "flex_flow": null,
            "grid_area": null,
            "grid_auto_columns": null,
            "grid_auto_flow": null,
            "grid_auto_rows": null,
            "grid_column": null,
            "grid_gap": null,
            "grid_row": null,
            "grid_template_areas": null,
            "grid_template_columns": null,
            "grid_template_rows": null,
            "height": null,
            "justify_content": null,
            "justify_items": null,
            "left": null,
            "margin": null,
            "max_height": null,
            "max_width": null,
            "min_height": null,
            "min_width": null,
            "object_fit": null,
            "object_position": null,
            "order": null,
            "overflow": null,
            "overflow_x": null,
            "overflow_y": null,
            "padding": null,
            "right": null,
            "top": null,
            "visibility": null,
            "width": null
          }
        },
        "942089ad45b145a0aad31fa4220d5c7e": {
          "model_module": "@jupyter-widgets/controls",
          "model_name": "DescriptionStyleModel",
          "model_module_version": "1.5.0",
          "state": {
            "_model_module": "@jupyter-widgets/controls",
            "_model_module_version": "1.5.0",
            "_model_name": "DescriptionStyleModel",
            "_view_count": null,
            "_view_module": "@jupyter-widgets/base",
            "_view_module_version": "1.2.0",
            "_view_name": "StyleView",
            "description_width": ""
          }
        },
        "4aabc31917234f4cab0f286f35f92b40": {
          "model_module": "@jupyter-widgets/controls",
          "model_name": "HBoxModel",
          "model_module_version": "1.5.0",
          "state": {
            "_dom_classes": [],
            "_model_module": "@jupyter-widgets/controls",
            "_model_module_version": "1.5.0",
            "_model_name": "HBoxModel",
            "_view_count": null,
            "_view_module": "@jupyter-widgets/controls",
            "_view_module_version": "1.5.0",
            "_view_name": "HBoxView",
            "box_style": "",
            "children": [
              "IPY_MODEL_3103a1ae8c264f5ea40607fbc6a8a579",
              "IPY_MODEL_49b0b03e1246463cb652792341ab2ea6",
              "IPY_MODEL_09d792c439704db9ab18ebb26ddc14aa"
            ],
            "layout": "IPY_MODEL_369c3f22986a4ae890456a2082c6b861"
          }
        },
        "3103a1ae8c264f5ea40607fbc6a8a579": {
          "model_module": "@jupyter-widgets/controls",
          "model_name": "HTMLModel",
          "model_module_version": "1.5.0",
          "state": {
            "_dom_classes": [],
            "_model_module": "@jupyter-widgets/controls",
            "_model_module_version": "1.5.0",
            "_model_name": "HTMLModel",
            "_view_count": null,
            "_view_module": "@jupyter-widgets/controls",
            "_view_module_version": "1.5.0",
            "_view_name": "HTMLView",
            "description": "",
            "description_tooltip": null,
            "layout": "IPY_MODEL_433a167ddc1e400488e1ace9b4fe466d",
            "placeholder": "​",
            "style": "IPY_MODEL_51a02660708840f2a9625bb0cdfbc866",
            "value": "Batches: 100%"
          }
        },
        "49b0b03e1246463cb652792341ab2ea6": {
          "model_module": "@jupyter-widgets/controls",
          "model_name": "FloatProgressModel",
          "model_module_version": "1.5.0",
          "state": {
            "_dom_classes": [],
            "_model_module": "@jupyter-widgets/controls",
            "_model_module_version": "1.5.0",
            "_model_name": "FloatProgressModel",
            "_view_count": null,
            "_view_module": "@jupyter-widgets/controls",
            "_view_module_version": "1.5.0",
            "_view_name": "ProgressView",
            "bar_style": "success",
            "description": "",
            "description_tooltip": null,
            "layout": "IPY_MODEL_d74659a363d646b4afa4f99401626bc7",
            "max": 3,
            "min": 0,
            "orientation": "horizontal",
            "style": "IPY_MODEL_a62480486f8c4706a2bb5aa3b2620513",
            "value": 3
          }
        },
        "09d792c439704db9ab18ebb26ddc14aa": {
          "model_module": "@jupyter-widgets/controls",
          "model_name": "HTMLModel",
          "model_module_version": "1.5.0",
          "state": {
            "_dom_classes": [],
            "_model_module": "@jupyter-widgets/controls",
            "_model_module_version": "1.5.0",
            "_model_name": "HTMLModel",
            "_view_count": null,
            "_view_module": "@jupyter-widgets/controls",
            "_view_module_version": "1.5.0",
            "_view_name": "HTMLView",
            "description": "",
            "description_tooltip": null,
            "layout": "IPY_MODEL_8bb3c72f846942a999cbd69ebb1c9277",
            "placeholder": "​",
            "style": "IPY_MODEL_1301934ab4454a489d92cdd12c753d2d",
            "value": " 3/3 [00:06&lt;00:00,  1.74s/it]"
          }
        },
        "369c3f22986a4ae890456a2082c6b861": {
          "model_module": "@jupyter-widgets/base",
          "model_name": "LayoutModel",
          "model_module_version": "1.2.0",
          "state": {
            "_model_module": "@jupyter-widgets/base",
            "_model_module_version": "1.2.0",
            "_model_name": "LayoutModel",
            "_view_count": null,
            "_view_module": "@jupyter-widgets/base",
            "_view_module_version": "1.2.0",
            "_view_name": "LayoutView",
            "align_content": null,
            "align_items": null,
            "align_self": null,
            "border": null,
            "bottom": null,
            "display": null,
            "flex": null,
            "flex_flow": null,
            "grid_area": null,
            "grid_auto_columns": null,
            "grid_auto_flow": null,
            "grid_auto_rows": null,
            "grid_column": null,
            "grid_gap": null,
            "grid_row": null,
            "grid_template_areas": null,
            "grid_template_columns": null,
            "grid_template_rows": null,
            "height": null,
            "justify_content": null,
            "justify_items": null,
            "left": null,
            "margin": null,
            "max_height": null,
            "max_width": null,
            "min_height": null,
            "min_width": null,
            "object_fit": null,
            "object_position": null,
            "order": null,
            "overflow": null,
            "overflow_x": null,
            "overflow_y": null,
            "padding": null,
            "right": null,
            "top": null,
            "visibility": null,
            "width": null
          }
        },
        "433a167ddc1e400488e1ace9b4fe466d": {
          "model_module": "@jupyter-widgets/base",
          "model_name": "LayoutModel",
          "model_module_version": "1.2.0",
          "state": {
            "_model_module": "@jupyter-widgets/base",
            "_model_module_version": "1.2.0",
            "_model_name": "LayoutModel",
            "_view_count": null,
            "_view_module": "@jupyter-widgets/base",
            "_view_module_version": "1.2.0",
            "_view_name": "LayoutView",
            "align_content": null,
            "align_items": null,
            "align_self": null,
            "border": null,
            "bottom": null,
            "display": null,
            "flex": null,
            "flex_flow": null,
            "grid_area": null,
            "grid_auto_columns": null,
            "grid_auto_flow": null,
            "grid_auto_rows": null,
            "grid_column": null,
            "grid_gap": null,
            "grid_row": null,
            "grid_template_areas": null,
            "grid_template_columns": null,
            "grid_template_rows": null,
            "height": null,
            "justify_content": null,
            "justify_items": null,
            "left": null,
            "margin": null,
            "max_height": null,
            "max_width": null,
            "min_height": null,
            "min_width": null,
            "object_fit": null,
            "object_position": null,
            "order": null,
            "overflow": null,
            "overflow_x": null,
            "overflow_y": null,
            "padding": null,
            "right": null,
            "top": null,
            "visibility": null,
            "width": null
          }
        },
        "51a02660708840f2a9625bb0cdfbc866": {
          "model_module": "@jupyter-widgets/controls",
          "model_name": "DescriptionStyleModel",
          "model_module_version": "1.5.0",
          "state": {
            "_model_module": "@jupyter-widgets/controls",
            "_model_module_version": "1.5.0",
            "_model_name": "DescriptionStyleModel",
            "_view_count": null,
            "_view_module": "@jupyter-widgets/base",
            "_view_module_version": "1.2.0",
            "_view_name": "StyleView",
            "description_width": ""
          }
        },
        "d74659a363d646b4afa4f99401626bc7": {
          "model_module": "@jupyter-widgets/base",
          "model_name": "LayoutModel",
          "model_module_version": "1.2.0",
          "state": {
            "_model_module": "@jupyter-widgets/base",
            "_model_module_version": "1.2.0",
            "_model_name": "LayoutModel",
            "_view_count": null,
            "_view_module": "@jupyter-widgets/base",
            "_view_module_version": "1.2.0",
            "_view_name": "LayoutView",
            "align_content": null,
            "align_items": null,
            "align_self": null,
            "border": null,
            "bottom": null,
            "display": null,
            "flex": null,
            "flex_flow": null,
            "grid_area": null,
            "grid_auto_columns": null,
            "grid_auto_flow": null,
            "grid_auto_rows": null,
            "grid_column": null,
            "grid_gap": null,
            "grid_row": null,
            "grid_template_areas": null,
            "grid_template_columns": null,
            "grid_template_rows": null,
            "height": null,
            "justify_content": null,
            "justify_items": null,
            "left": null,
            "margin": null,
            "max_height": null,
            "max_width": null,
            "min_height": null,
            "min_width": null,
            "object_fit": null,
            "object_position": null,
            "order": null,
            "overflow": null,
            "overflow_x": null,
            "overflow_y": null,
            "padding": null,
            "right": null,
            "top": null,
            "visibility": null,
            "width": null
          }
        },
        "a62480486f8c4706a2bb5aa3b2620513": {
          "model_module": "@jupyter-widgets/controls",
          "model_name": "ProgressStyleModel",
          "model_module_version": "1.5.0",
          "state": {
            "_model_module": "@jupyter-widgets/controls",
            "_model_module_version": "1.5.0",
            "_model_name": "ProgressStyleModel",
            "_view_count": null,
            "_view_module": "@jupyter-widgets/base",
            "_view_module_version": "1.2.0",
            "_view_name": "StyleView",
            "bar_color": null,
            "description_width": ""
          }
        },
        "8bb3c72f846942a999cbd69ebb1c9277": {
          "model_module": "@jupyter-widgets/base",
          "model_name": "LayoutModel",
          "model_module_version": "1.2.0",
          "state": {
            "_model_module": "@jupyter-widgets/base",
            "_model_module_version": "1.2.0",
            "_model_name": "LayoutModel",
            "_view_count": null,
            "_view_module": "@jupyter-widgets/base",
            "_view_module_version": "1.2.0",
            "_view_name": "LayoutView",
            "align_content": null,
            "align_items": null,
            "align_self": null,
            "border": null,
            "bottom": null,
            "display": null,
            "flex": null,
            "flex_flow": null,
            "grid_area": null,
            "grid_auto_columns": null,
            "grid_auto_flow": null,
            "grid_auto_rows": null,
            "grid_column": null,
            "grid_gap": null,
            "grid_row": null,
            "grid_template_areas": null,
            "grid_template_columns": null,
            "grid_template_rows": null,
            "height": null,
            "justify_content": null,
            "justify_items": null,
            "left": null,
            "margin": null,
            "max_height": null,
            "max_width": null,
            "min_height": null,
            "min_width": null,
            "object_fit": null,
            "object_position": null,
            "order": null,
            "overflow": null,
            "overflow_x": null,
            "overflow_y": null,
            "padding": null,
            "right": null,
            "top": null,
            "visibility": null,
            "width": null
          }
        },
        "1301934ab4454a489d92cdd12c753d2d": {
          "model_module": "@jupyter-widgets/controls",
          "model_name": "DescriptionStyleModel",
          "model_module_version": "1.5.0",
          "state": {
            "_model_module": "@jupyter-widgets/controls",
            "_model_module_version": "1.5.0",
            "_model_name": "DescriptionStyleModel",
            "_view_count": null,
            "_view_module": "@jupyter-widgets/base",
            "_view_module_version": "1.2.0",
            "_view_name": "StyleView",
            "description_width": ""
          }
        },
        "335891fdba284891a8508657de73de99": {
          "model_module": "@jupyter-widgets/controls",
          "model_name": "HBoxModel",
          "model_module_version": "1.5.0",
          "state": {
            "_dom_classes": [],
            "_model_module": "@jupyter-widgets/controls",
            "_model_module_version": "1.5.0",
            "_model_name": "HBoxModel",
            "_view_count": null,
            "_view_module": "@jupyter-widgets/controls",
            "_view_module_version": "1.5.0",
            "_view_name": "HBoxView",
            "box_style": "",
            "children": [
              "IPY_MODEL_b7c9206fa89b43be8d1812b191fd544f",
              "IPY_MODEL_1ef55d8af3984dfa801eafc203849c22",
              "IPY_MODEL_dfb7b0055a3546c897682fbfc333dec5"
            ],
            "layout": "IPY_MODEL_92fe87385f8a4c77b5e6de5d74b3d05d"
          }
        },
        "b7c9206fa89b43be8d1812b191fd544f": {
          "model_module": "@jupyter-widgets/controls",
          "model_name": "HTMLModel",
          "model_module_version": "1.5.0",
          "state": {
            "_dom_classes": [],
            "_model_module": "@jupyter-widgets/controls",
            "_model_module_version": "1.5.0",
            "_model_name": "HTMLModel",
            "_view_count": null,
            "_view_module": "@jupyter-widgets/controls",
            "_view_module_version": "1.5.0",
            "_view_name": "HTMLView",
            "description": "",
            "description_tooltip": null,
            "layout": "IPY_MODEL_e2a1e27c9cc54881925b4e9e458653b2",
            "placeholder": "​",
            "style": "IPY_MODEL_abef796358334948ab052d0f19463392",
            "value": "Batches: 100%"
          }
        },
        "1ef55d8af3984dfa801eafc203849c22": {
          "model_module": "@jupyter-widgets/controls",
          "model_name": "FloatProgressModel",
          "model_module_version": "1.5.0",
          "state": {
            "_dom_classes": [],
            "_model_module": "@jupyter-widgets/controls",
            "_model_module_version": "1.5.0",
            "_model_name": "FloatProgressModel",
            "_view_count": null,
            "_view_module": "@jupyter-widgets/controls",
            "_view_module_version": "1.5.0",
            "_view_name": "ProgressView",
            "bar_style": "success",
            "description": "",
            "description_tooltip": null,
            "layout": "IPY_MODEL_03543f5d10f746ceaa8d1790b20cc468",
            "max": 41,
            "min": 0,
            "orientation": "horizontal",
            "style": "IPY_MODEL_eb0f223f0598400b8a667ec50fbf2521",
            "value": 41
          }
        },
        "dfb7b0055a3546c897682fbfc333dec5": {
          "model_module": "@jupyter-widgets/controls",
          "model_name": "HTMLModel",
          "model_module_version": "1.5.0",
          "state": {
            "_dom_classes": [],
            "_model_module": "@jupyter-widgets/controls",
            "_model_module_version": "1.5.0",
            "_model_name": "HTMLModel",
            "_view_count": null,
            "_view_module": "@jupyter-widgets/controls",
            "_view_module_version": "1.5.0",
            "_view_name": "HTMLView",
            "description": "",
            "description_tooltip": null,
            "layout": "IPY_MODEL_4e854f7f63464544b8b15d1394edda3d",
            "placeholder": "​",
            "style": "IPY_MODEL_6d16e5a070b741b7ad34a4f8d0d29aca",
            "value": " 41/41 [00:41&lt;00:00,  1.06s/it]"
          }
        },
        "92fe87385f8a4c77b5e6de5d74b3d05d": {
          "model_module": "@jupyter-widgets/base",
          "model_name": "LayoutModel",
          "model_module_version": "1.2.0",
          "state": {
            "_model_module": "@jupyter-widgets/base",
            "_model_module_version": "1.2.0",
            "_model_name": "LayoutModel",
            "_view_count": null,
            "_view_module": "@jupyter-widgets/base",
            "_view_module_version": "1.2.0",
            "_view_name": "LayoutView",
            "align_content": null,
            "align_items": null,
            "align_self": null,
            "border": null,
            "bottom": null,
            "display": null,
            "flex": null,
            "flex_flow": null,
            "grid_area": null,
            "grid_auto_columns": null,
            "grid_auto_flow": null,
            "grid_auto_rows": null,
            "grid_column": null,
            "grid_gap": null,
            "grid_row": null,
            "grid_template_areas": null,
            "grid_template_columns": null,
            "grid_template_rows": null,
            "height": null,
            "justify_content": null,
            "justify_items": null,
            "left": null,
            "margin": null,
            "max_height": null,
            "max_width": null,
            "min_height": null,
            "min_width": null,
            "object_fit": null,
            "object_position": null,
            "order": null,
            "overflow": null,
            "overflow_x": null,
            "overflow_y": null,
            "padding": null,
            "right": null,
            "top": null,
            "visibility": null,
            "width": null
          }
        },
        "e2a1e27c9cc54881925b4e9e458653b2": {
          "model_module": "@jupyter-widgets/base",
          "model_name": "LayoutModel",
          "model_module_version": "1.2.0",
          "state": {
            "_model_module": "@jupyter-widgets/base",
            "_model_module_version": "1.2.0",
            "_model_name": "LayoutModel",
            "_view_count": null,
            "_view_module": "@jupyter-widgets/base",
            "_view_module_version": "1.2.0",
            "_view_name": "LayoutView",
            "align_content": null,
            "align_items": null,
            "align_self": null,
            "border": null,
            "bottom": null,
            "display": null,
            "flex": null,
            "flex_flow": null,
            "grid_area": null,
            "grid_auto_columns": null,
            "grid_auto_flow": null,
            "grid_auto_rows": null,
            "grid_column": null,
            "grid_gap": null,
            "grid_row": null,
            "grid_template_areas": null,
            "grid_template_columns": null,
            "grid_template_rows": null,
            "height": null,
            "justify_content": null,
            "justify_items": null,
            "left": null,
            "margin": null,
            "max_height": null,
            "max_width": null,
            "min_height": null,
            "min_width": null,
            "object_fit": null,
            "object_position": null,
            "order": null,
            "overflow": null,
            "overflow_x": null,
            "overflow_y": null,
            "padding": null,
            "right": null,
            "top": null,
            "visibility": null,
            "width": null
          }
        },
        "abef796358334948ab052d0f19463392": {
          "model_module": "@jupyter-widgets/controls",
          "model_name": "DescriptionStyleModel",
          "model_module_version": "1.5.0",
          "state": {
            "_model_module": "@jupyter-widgets/controls",
            "_model_module_version": "1.5.0",
            "_model_name": "DescriptionStyleModel",
            "_view_count": null,
            "_view_module": "@jupyter-widgets/base",
            "_view_module_version": "1.2.0",
            "_view_name": "StyleView",
            "description_width": ""
          }
        },
        "03543f5d10f746ceaa8d1790b20cc468": {
          "model_module": "@jupyter-widgets/base",
          "model_name": "LayoutModel",
          "model_module_version": "1.2.0",
          "state": {
            "_model_module": "@jupyter-widgets/base",
            "_model_module_version": "1.2.0",
            "_model_name": "LayoutModel",
            "_view_count": null,
            "_view_module": "@jupyter-widgets/base",
            "_view_module_version": "1.2.0",
            "_view_name": "LayoutView",
            "align_content": null,
            "align_items": null,
            "align_self": null,
            "border": null,
            "bottom": null,
            "display": null,
            "flex": null,
            "flex_flow": null,
            "grid_area": null,
            "grid_auto_columns": null,
            "grid_auto_flow": null,
            "grid_auto_rows": null,
            "grid_column": null,
            "grid_gap": null,
            "grid_row": null,
            "grid_template_areas": null,
            "grid_template_columns": null,
            "grid_template_rows": null,
            "height": null,
            "justify_content": null,
            "justify_items": null,
            "left": null,
            "margin": null,
            "max_height": null,
            "max_width": null,
            "min_height": null,
            "min_width": null,
            "object_fit": null,
            "object_position": null,
            "order": null,
            "overflow": null,
            "overflow_x": null,
            "overflow_y": null,
            "padding": null,
            "right": null,
            "top": null,
            "visibility": null,
            "width": null
          }
        },
        "eb0f223f0598400b8a667ec50fbf2521": {
          "model_module": "@jupyter-widgets/controls",
          "model_name": "ProgressStyleModel",
          "model_module_version": "1.5.0",
          "state": {
            "_model_module": "@jupyter-widgets/controls",
            "_model_module_version": "1.5.0",
            "_model_name": "ProgressStyleModel",
            "_view_count": null,
            "_view_module": "@jupyter-widgets/base",
            "_view_module_version": "1.2.0",
            "_view_name": "StyleView",
            "bar_color": null,
            "description_width": ""
          }
        },
        "4e854f7f63464544b8b15d1394edda3d": {
          "model_module": "@jupyter-widgets/base",
          "model_name": "LayoutModel",
          "model_module_version": "1.2.0",
          "state": {
            "_model_module": "@jupyter-widgets/base",
            "_model_module_version": "1.2.0",
            "_model_name": "LayoutModel",
            "_view_count": null,
            "_view_module": "@jupyter-widgets/base",
            "_view_module_version": "1.2.0",
            "_view_name": "LayoutView",
            "align_content": null,
            "align_items": null,
            "align_self": null,
            "border": null,
            "bottom": null,
            "display": null,
            "flex": null,
            "flex_flow": null,
            "grid_area": null,
            "grid_auto_columns": null,
            "grid_auto_flow": null,
            "grid_auto_rows": null,
            "grid_column": null,
            "grid_gap": null,
            "grid_row": null,
            "grid_template_areas": null,
            "grid_template_columns": null,
            "grid_template_rows": null,
            "height": null,
            "justify_content": null,
            "justify_items": null,
            "left": null,
            "margin": null,
            "max_height": null,
            "max_width": null,
            "min_height": null,
            "min_width": null,
            "object_fit": null,
            "object_position": null,
            "order": null,
            "overflow": null,
            "overflow_x": null,
            "overflow_y": null,
            "padding": null,
            "right": null,
            "top": null,
            "visibility": null,
            "width": null
          }
        },
        "6d16e5a070b741b7ad34a4f8d0d29aca": {
          "model_module": "@jupyter-widgets/controls",
          "model_name": "DescriptionStyleModel",
          "model_module_version": "1.5.0",
          "state": {
            "_model_module": "@jupyter-widgets/controls",
            "_model_module_version": "1.5.0",
            "_model_name": "DescriptionStyleModel",
            "_view_count": null,
            "_view_module": "@jupyter-widgets/base",
            "_view_module_version": "1.2.0",
            "_view_name": "StyleView",
            "description_width": ""
          }
        },
        "6282c8768f9b4043843e7f05cf56e79c": {
          "model_module": "@jupyter-widgets/controls",
          "model_name": "HBoxModel",
          "model_module_version": "1.5.0",
          "state": {
            "_dom_classes": [],
            "_model_module": "@jupyter-widgets/controls",
            "_model_module_version": "1.5.0",
            "_model_name": "HBoxModel",
            "_view_count": null,
            "_view_module": "@jupyter-widgets/controls",
            "_view_module_version": "1.5.0",
            "_view_name": "HBoxView",
            "box_style": "",
            "children": [
              "IPY_MODEL_a20d39100e3249e2ac9e8f6dfb8df60f",
              "IPY_MODEL_644ca2aca17b4471a3c4ae3f8d16dfc9",
              "IPY_MODEL_f73be28550ac4368bfb02cc96e1f6ee6"
            ],
            "layout": "IPY_MODEL_a0329b8caba147918e5ae2093f8c4105"
          }
        },
        "a20d39100e3249e2ac9e8f6dfb8df60f": {
          "model_module": "@jupyter-widgets/controls",
          "model_name": "HTMLModel",
          "model_module_version": "1.5.0",
          "state": {
            "_dom_classes": [],
            "_model_module": "@jupyter-widgets/controls",
            "_model_module_version": "1.5.0",
            "_model_name": "HTMLModel",
            "_view_count": null,
            "_view_module": "@jupyter-widgets/controls",
            "_view_module_version": "1.5.0",
            "_view_name": "HTMLView",
            "description": "",
            "description_tooltip": null,
            "layout": "IPY_MODEL_6b1e46d9dbc247e0b58bc035dd302238",
            "placeholder": "​",
            "style": "IPY_MODEL_3ce3ab93c6a94dbfab4817ba208b59e0",
            "value": "Batches: 100%"
          }
        },
        "644ca2aca17b4471a3c4ae3f8d16dfc9": {
          "model_module": "@jupyter-widgets/controls",
          "model_name": "FloatProgressModel",
          "model_module_version": "1.5.0",
          "state": {
            "_dom_classes": [],
            "_model_module": "@jupyter-widgets/controls",
            "_model_module_version": "1.5.0",
            "_model_name": "FloatProgressModel",
            "_view_count": null,
            "_view_module": "@jupyter-widgets/controls",
            "_view_module_version": "1.5.0",
            "_view_name": "ProgressView",
            "bar_style": "success",
            "description": "",
            "description_tooltip": null,
            "layout": "IPY_MODEL_6959936f76574812afbdf4d1c0ccd535",
            "max": 47,
            "min": 0,
            "orientation": "horizontal",
            "style": "IPY_MODEL_71540c91220d47b58ead911c51a0fd56",
            "value": 47
          }
        },
        "f73be28550ac4368bfb02cc96e1f6ee6": {
          "model_module": "@jupyter-widgets/controls",
          "model_name": "HTMLModel",
          "model_module_version": "1.5.0",
          "state": {
            "_dom_classes": [],
            "_model_module": "@jupyter-widgets/controls",
            "_model_module_version": "1.5.0",
            "_model_name": "HTMLModel",
            "_view_count": null,
            "_view_module": "@jupyter-widgets/controls",
            "_view_module_version": "1.5.0",
            "_view_name": "HTMLView",
            "description": "",
            "description_tooltip": null,
            "layout": "IPY_MODEL_4f11871de16c4703a337857167517e1e",
            "placeholder": "​",
            "style": "IPY_MODEL_51c3a97877784fe081af8d5e44065f08",
            "value": " 47/47 [03:16&lt;00:00,  4.28s/it]"
          }
        },
        "a0329b8caba147918e5ae2093f8c4105": {
          "model_module": "@jupyter-widgets/base",
          "model_name": "LayoutModel",
          "model_module_version": "1.2.0",
          "state": {
            "_model_module": "@jupyter-widgets/base",
            "_model_module_version": "1.2.0",
            "_model_name": "LayoutModel",
            "_view_count": null,
            "_view_module": "@jupyter-widgets/base",
            "_view_module_version": "1.2.0",
            "_view_name": "LayoutView",
            "align_content": null,
            "align_items": null,
            "align_self": null,
            "border": null,
            "bottom": null,
            "display": null,
            "flex": null,
            "flex_flow": null,
            "grid_area": null,
            "grid_auto_columns": null,
            "grid_auto_flow": null,
            "grid_auto_rows": null,
            "grid_column": null,
            "grid_gap": null,
            "grid_row": null,
            "grid_template_areas": null,
            "grid_template_columns": null,
            "grid_template_rows": null,
            "height": null,
            "justify_content": null,
            "justify_items": null,
            "left": null,
            "margin": null,
            "max_height": null,
            "max_width": null,
            "min_height": null,
            "min_width": null,
            "object_fit": null,
            "object_position": null,
            "order": null,
            "overflow": null,
            "overflow_x": null,
            "overflow_y": null,
            "padding": null,
            "right": null,
            "top": null,
            "visibility": null,
            "width": null
          }
        },
        "6b1e46d9dbc247e0b58bc035dd302238": {
          "model_module": "@jupyter-widgets/base",
          "model_name": "LayoutModel",
          "model_module_version": "1.2.0",
          "state": {
            "_model_module": "@jupyter-widgets/base",
            "_model_module_version": "1.2.0",
            "_model_name": "LayoutModel",
            "_view_count": null,
            "_view_module": "@jupyter-widgets/base",
            "_view_module_version": "1.2.0",
            "_view_name": "LayoutView",
            "align_content": null,
            "align_items": null,
            "align_self": null,
            "border": null,
            "bottom": null,
            "display": null,
            "flex": null,
            "flex_flow": null,
            "grid_area": null,
            "grid_auto_columns": null,
            "grid_auto_flow": null,
            "grid_auto_rows": null,
            "grid_column": null,
            "grid_gap": null,
            "grid_row": null,
            "grid_template_areas": null,
            "grid_template_columns": null,
            "grid_template_rows": null,
            "height": null,
            "justify_content": null,
            "justify_items": null,
            "left": null,
            "margin": null,
            "max_height": null,
            "max_width": null,
            "min_height": null,
            "min_width": null,
            "object_fit": null,
            "object_position": null,
            "order": null,
            "overflow": null,
            "overflow_x": null,
            "overflow_y": null,
            "padding": null,
            "right": null,
            "top": null,
            "visibility": null,
            "width": null
          }
        },
        "3ce3ab93c6a94dbfab4817ba208b59e0": {
          "model_module": "@jupyter-widgets/controls",
          "model_name": "DescriptionStyleModel",
          "model_module_version": "1.5.0",
          "state": {
            "_model_module": "@jupyter-widgets/controls",
            "_model_module_version": "1.5.0",
            "_model_name": "DescriptionStyleModel",
            "_view_count": null,
            "_view_module": "@jupyter-widgets/base",
            "_view_module_version": "1.2.0",
            "_view_name": "StyleView",
            "description_width": ""
          }
        },
        "6959936f76574812afbdf4d1c0ccd535": {
          "model_module": "@jupyter-widgets/base",
          "model_name": "LayoutModel",
          "model_module_version": "1.2.0",
          "state": {
            "_model_module": "@jupyter-widgets/base",
            "_model_module_version": "1.2.0",
            "_model_name": "LayoutModel",
            "_view_count": null,
            "_view_module": "@jupyter-widgets/base",
            "_view_module_version": "1.2.0",
            "_view_name": "LayoutView",
            "align_content": null,
            "align_items": null,
            "align_self": null,
            "border": null,
            "bottom": null,
            "display": null,
            "flex": null,
            "flex_flow": null,
            "grid_area": null,
            "grid_auto_columns": null,
            "grid_auto_flow": null,
            "grid_auto_rows": null,
            "grid_column": null,
            "grid_gap": null,
            "grid_row": null,
            "grid_template_areas": null,
            "grid_template_columns": null,
            "grid_template_rows": null,
            "height": null,
            "justify_content": null,
            "justify_items": null,
            "left": null,
            "margin": null,
            "max_height": null,
            "max_width": null,
            "min_height": null,
            "min_width": null,
            "object_fit": null,
            "object_position": null,
            "order": null,
            "overflow": null,
            "overflow_x": null,
            "overflow_y": null,
            "padding": null,
            "right": null,
            "top": null,
            "visibility": null,
            "width": null
          }
        },
        "71540c91220d47b58ead911c51a0fd56": {
          "model_module": "@jupyter-widgets/controls",
          "model_name": "ProgressStyleModel",
          "model_module_version": "1.5.0",
          "state": {
            "_model_module": "@jupyter-widgets/controls",
            "_model_module_version": "1.5.0",
            "_model_name": "ProgressStyleModel",
            "_view_count": null,
            "_view_module": "@jupyter-widgets/base",
            "_view_module_version": "1.2.0",
            "_view_name": "StyleView",
            "bar_color": null,
            "description_width": ""
          }
        },
        "4f11871de16c4703a337857167517e1e": {
          "model_module": "@jupyter-widgets/base",
          "model_name": "LayoutModel",
          "model_module_version": "1.2.0",
          "state": {
            "_model_module": "@jupyter-widgets/base",
            "_model_module_version": "1.2.0",
            "_model_name": "LayoutModel",
            "_view_count": null,
            "_view_module": "@jupyter-widgets/base",
            "_view_module_version": "1.2.0",
            "_view_name": "LayoutView",
            "align_content": null,
            "align_items": null,
            "align_self": null,
            "border": null,
            "bottom": null,
            "display": null,
            "flex": null,
            "flex_flow": null,
            "grid_area": null,
            "grid_auto_columns": null,
            "grid_auto_flow": null,
            "grid_auto_rows": null,
            "grid_column": null,
            "grid_gap": null,
            "grid_row": null,
            "grid_template_areas": null,
            "grid_template_columns": null,
            "grid_template_rows": null,
            "height": null,
            "justify_content": null,
            "justify_items": null,
            "left": null,
            "margin": null,
            "max_height": null,
            "max_width": null,
            "min_height": null,
            "min_width": null,
            "object_fit": null,
            "object_position": null,
            "order": null,
            "overflow": null,
            "overflow_x": null,
            "overflow_y": null,
            "padding": null,
            "right": null,
            "top": null,
            "visibility": null,
            "width": null
          }
        },
        "51c3a97877784fe081af8d5e44065f08": {
          "model_module": "@jupyter-widgets/controls",
          "model_name": "DescriptionStyleModel",
          "model_module_version": "1.5.0",
          "state": {
            "_model_module": "@jupyter-widgets/controls",
            "_model_module_version": "1.5.0",
            "_model_name": "DescriptionStyleModel",
            "_view_count": null,
            "_view_module": "@jupyter-widgets/base",
            "_view_module_version": "1.2.0",
            "_view_name": "StyleView",
            "description_width": ""
          }
        }
      }
    }
  },
  "cells": [
    {
      "cell_type": "markdown",
      "metadata": {
        "id": "view-in-github",
        "colab_type": "text"
      },
      "source": [
        "<a href=\"https://colab.research.google.com/github/pvannies/information-retrieval/blob/main/modified_BEIR_for_dutch_evaluations.ipynb\" target=\"_parent\"><img src=\"https://colab.research.google.com/assets/colab-badge.svg\" alt=\"Open In Colab\"/></a>"
      ]
    },
    {
      "cell_type": "markdown",
      "metadata": {
        "id": "bzui28NKNKA1"
      },
      "source": [
        "# **Evaluating a Dutch embedding model on a machine translated Dutch BEIR dataset**\n",
        "\n",
        "This notebook is adpated from the original BEIR notebook: https://github.com/beir-cellar/beir/wiki/Examples-and-tutorials that was developed by Nandan Thakur, Researcher @ UKP Lab, TU Darmstadt\n",
        "\n",
        "The purpose of this notebook is to evaluate information retrieval using a sentence transformer embedding model and reranking by a cross-encoder on a custom dataset, here a dutch scifact dataset.\n",
        "\n",
        "Specifically, we are interested in the Dutch embedding and cross-encoder model trained by the NFI:\n",
        "- [robbert-2022-dutch-sentence-transformers](https://huggingface.co/NetherlandsForensicInstitute/robbert-2022-dutch-sentence-transformers)\n",
        "- [robbert-2023-dutch-base-cross-encoder](https://huggingface.co/NetherlandsForensicInstitute/robbert-2023-dutch-base-cross-encoder)\n",
        "\n",
        "The scifact-nl dataset is machine translated from the original scifact (a BEIR benchmark dataset) and can be (soon) found here: https://huggingface.co/datasets/DSAISopraSteriaNL/scifact-NL/tree/main\n",
        "\n",
        "## How to\n",
        "- Have your custom dataset ready in the BEIR format. In the qrel folder, only one tsv file is necessary.\n",
        "\n",
        "  * scifact-nl/\n",
        "      * corpus.jsonl\n",
        "      * queries.jsonl\n",
        "      * qrels/\n",
        "          * train.tsv\n",
        "          * dev.tsv\n",
        "          * test.tsv\n",
        "\n",
        "\n",
        "- upload your files in the notebook session in a new `datasets` folder in the `content` folder, which is opened by default when clicking on the folder icon in the left menu bar of colab.\n",
        "\n",
        "- Define your (sentence transformer) embedding model and cross encoder model that you want to evaluate in the first code cell below\n",
        "\n",
        "- Run the cells and enjoy"
      ]
    },
    {
      "cell_type": "code",
      "source": [
        "# define embedding model you want to evaluate\n",
        "model_name = \"NetherlandsForensicInstitute/robbert-2022-dutch-sentence-transformers\"\n",
        "# folder where the files in BEIR format are saved\n",
        "data_path = \"datasets/scifact-nl\"\n",
        "# split, which qrel .tsv file is present or which you want to evaluate on\n",
        "qrel_split = \"test\"\n",
        "# define cross-encoder model for reranking\n",
        "cross_encoder_model_name = 'NetherlandsForensicInstitute/robbert-2023-dutch-base-cross-encoder'"
      ],
      "metadata": {
        "id": "cnYx1M4LVNj1"
      },
      "execution_count": 1,
      "outputs": []
    },
    {
      "cell_type": "code",
      "metadata": {
        "colab": {
          "base_uri": "https://localhost:8080/"
        },
        "id": "TeXB40loEI7y",
        "outputId": "442eae2c-0e87-4938-f48d-eb3f64050b2c"
      },
      "source": [
        "# check if your files and folders are indeed present\n",
        "!ls datasets"
      ],
      "execution_count": 2,
      "outputs": [
        {
          "output_type": "stream",
          "name": "stdout",
          "text": [
            "scifact-nl\n"
          ]
        }
      ]
    },
    {
      "cell_type": "code",
      "metadata": {
        "id": "Zbq2V91bCPxO"
      },
      "source": [
        "# Install the beir PyPI package, hide output\n",
        "!nvidia-smi &> /dev/null\n",
        "!pip install beir &> /dev/null"
      ],
      "execution_count": 3,
      "outputs": []
    },
    {
      "cell_type": "code",
      "metadata": {
        "id": "qr9Ixc_X83IL",
        "colab": {
          "base_uri": "https://localhost:8080/"
        },
        "outputId": "7381ab66-6005-4957-f000-0e66d6409048"
      },
      "source": [
        "from beir import util, LoggingHandler\n",
        "\n",
        "import logging\n",
        "import pathlib, os\n",
        "\n",
        "#### Just some code to print debug information to stdout\n",
        "logging.basicConfig(format='%(asctime)s - %(message)s',\n",
        "                    datefmt='%Y-%m-%d %H:%M:%S',\n",
        "                    level=logging.INFO,\n",
        "                    handlers=[LoggingHandler()])\n",
        "#### /print debug information to stdout"
      ],
      "execution_count": 4,
      "outputs": [
        {
          "output_type": "stream",
          "name": "stderr",
          "text": [
            "/usr/local/lib/python3.10/dist-packages/beir/util.py:2: TqdmExperimentalWarning: Using `tqdm.autonotebook.tqdm` in notebook mode. Use `tqdm.tqdm` instead to force console mode (e.g. in jupyter console)\n",
            "  from tqdm.autonotebook import tqdm\n"
          ]
        }
      ]
    },
    {
      "cell_type": "markdown",
      "metadata": {
        "id": "gB6I0UKeRH9-"
      },
      "source": [
        "# **Data Loading**"
      ]
    },
    {
      "cell_type": "code",
      "metadata": {
        "id": "EXORqILaEkSz",
        "colab": {
          "base_uri": "https://localhost:8080/",
          "height": 49,
          "referenced_widgets": [
            "ccfca51fe0264da1b480d298ce0e16d5",
            "4ecb18456c18457b87b144c3dab4379f",
            "2328bb52fc4547579ff38fa5d6a7f108",
            "76e599bd1dd24f61a4cbf86223bf05b0",
            "0baa59bf512b46fcb5755c245bbebc5f",
            "ae35611eaa15417b9706ac8ab969d744",
            "8a90009f47b242bf86e4f929d02cafbc",
            "527feb6b1b7c4b58a22ad20bebbc0f62",
            "e3f898413c104d19a49845e81ed72c35",
            "d48302e08c9c485b996bd2140db46cb3",
            "942089ad45b145a0aad31fa4220d5c7e"
          ]
        },
        "outputId": "37c70c1f-4c04-449e-f87c-0364b34dd315"
      },
      "source": [
        "from beir.datasets.data_loader import GenericDataLoader\n",
        "\n",
        "corpus, queries, qrels = GenericDataLoader(data_path).load(split=qrel_split) # or split = \"train\" or \"dev\""
      ],
      "execution_count": 5,
      "outputs": [
        {
          "output_type": "display_data",
          "data": {
            "text/plain": [
              "  0%|          | 0/5183 [00:00<?, ?it/s]"
            ],
            "application/vnd.jupyter.widget-view+json": {
              "version_major": 2,
              "version_minor": 0,
              "model_id": "ccfca51fe0264da1b480d298ce0e16d5"
            }
          },
          "metadata": {}
        }
      ]
    },
    {
      "cell_type": "markdown",
      "metadata": {
        "id": "rTdflvK8RqMM"
      },
      "source": [
        "# **Dense Retrieval using Exact Search**\n",
        "\n",
        "## **Sentence-BERT**\n",
        "We use the [``NetherlandsForensicInstitute/robbert-2022-dutch-sentence-transformers``](https://huggingface.co/NetherlandsForensicInstitute/robbert-2022-dutch-sentence-transformers) SBERT model in this example."
      ]
    },
    {
      "cell_type": "code",
      "metadata": {
        "id": "B2X_deOMFxJB",
        "colab": {
          "base_uri": "https://localhost:8080/",
          "height": 81,
          "referenced_widgets": [
            "4aabc31917234f4cab0f286f35f92b40",
            "3103a1ae8c264f5ea40607fbc6a8a579",
            "49b0b03e1246463cb652792341ab2ea6",
            "09d792c439704db9ab18ebb26ddc14aa",
            "369c3f22986a4ae890456a2082c6b861",
            "433a167ddc1e400488e1ace9b4fe466d",
            "51a02660708840f2a9625bb0cdfbc866",
            "d74659a363d646b4afa4f99401626bc7",
            "a62480486f8c4706a2bb5aa3b2620513",
            "8bb3c72f846942a999cbd69ebb1c9277",
            "1301934ab4454a489d92cdd12c753d2d",
            "335891fdba284891a8508657de73de99",
            "b7c9206fa89b43be8d1812b191fd544f",
            "1ef55d8af3984dfa801eafc203849c22",
            "dfb7b0055a3546c897682fbfc333dec5",
            "92fe87385f8a4c77b5e6de5d74b3d05d",
            "e2a1e27c9cc54881925b4e9e458653b2",
            "abef796358334948ab052d0f19463392",
            "03543f5d10f746ceaa8d1790b20cc468",
            "eb0f223f0598400b8a667ec50fbf2521",
            "4e854f7f63464544b8b15d1394edda3d",
            "6d16e5a070b741b7ad34a4f8d0d29aca"
          ]
        },
        "outputId": "e4bceeeb-8f60-46d0-86e8-ab1763c4d2d2"
      },
      "source": [
        "from beir.retrieval.evaluation import EvaluateRetrieval\n",
        "from beir.retrieval import models\n",
        "from beir.retrieval.search.dense import DenseRetrievalExactSearch as DRES\n",
        "\n",
        "#### Dense Retrieval using SBERT (Sentence-BERT) ####\n",
        "#### Provide any pretrained sentence-transformers model\n",
        "#### The model was fine-tuned using cosine-similarity.\n",
        "#### Complete list - https://www.sbert.net/docs/pretrained_models.html\n",
        "\n",
        "# model_name is defined in first cell\n",
        "\n",
        "model = DRES(models.SentenceBERT(model_name), batch_size=128)\n",
        "retriever = EvaluateRetrieval(model, score_function=\"cos_sim\")\n",
        "\n",
        "#### Retrieve dense results (format of results is identical to qrels)\n",
        "results = retriever.retrieve(corpus, queries)"
      ],
      "execution_count": 6,
      "outputs": [
        {
          "output_type": "display_data",
          "data": {
            "text/plain": [
              "Batches:   0%|          | 0/3 [00:00<?, ?it/s]"
            ],
            "application/vnd.jupyter.widget-view+json": {
              "version_major": 2,
              "version_minor": 0,
              "model_id": "4aabc31917234f4cab0f286f35f92b40"
            }
          },
          "metadata": {}
        },
        {
          "output_type": "display_data",
          "data": {
            "text/plain": [
              "Batches:   0%|          | 0/41 [00:00<?, ?it/s]"
            ],
            "application/vnd.jupyter.widget-view+json": {
              "version_major": 2,
              "version_minor": 0,
              "model_id": "335891fdba284891a8508657de73de99"
            }
          },
          "metadata": {}
        }
      ]
    },
    {
      "cell_type": "code",
      "metadata": {
        "id": "tyC5x24k9ipJ"
      },
      "source": [
        "#### Evaluate your retrieval using NDCG@k, MAP@K ...\n",
        "\n",
        "logging.info(\"Retriever evaluation for k in: {}\".format(retriever.k_values))\n",
        "ndcg, _map, recall, precision = retriever.evaluate(qrels, results, retriever.k_values)\n"
      ],
      "execution_count": 7,
      "outputs": []
    },
    {
      "cell_type": "code",
      "source": [
        "print(data_path)\n",
        "print(model_name)\n",
        "print(ndcg)\n",
        "print(_map)\n",
        "print(recall)\n",
        "print(precision)"
      ],
      "metadata": {
        "id": "3bGObfOlRGQb",
        "colab": {
          "base_uri": "https://localhost:8080/"
        },
        "outputId": "6bf17445-8b2e-4f1e-8228-0d7796955aaa"
      },
      "execution_count": 8,
      "outputs": [
        {
          "output_type": "stream",
          "name": "stdout",
          "text": [
            "datasets/scifact-nl\n",
            "NetherlandsForensicInstitute/robbert-2022-dutch-sentence-transformers\n",
            "{'NDCG@1': 0.32, 'NDCG@3': 0.36713, 'NDCG@5': 0.39326, 'NDCG@10': 0.41025, 'NDCG@100': 0.46031, 'NDCG@1000': 0.48366}\n",
            "{'MAP@1': 0.29917, 'MAP@3': 0.34491, 'MAP@5': 0.36095, 'MAP@10': 0.36861, 'MAP@100': 0.37906, 'MAP@1000': 0.37983}\n",
            "{'Recall@1': 0.29917, 'Recall@3': 0.40339, 'Recall@5': 0.46611, 'Recall@10': 0.51744, 'Recall@100': 0.75478, 'Recall@1000': 0.941}\n",
            "{'P@1': 0.32, 'P@3': 0.14778, 'P@5': 0.106, 'P@10': 0.05933, 'P@100': 0.00857, 'P@1000': 0.00107}\n"
          ]
        }
      ]
    },
    {
      "cell_type": "code",
      "metadata": {
        "id": "ak1ow4Qh_RxT",
        "colab": {
          "base_uri": "https://localhost:8080/"
        },
        "outputId": "3741874b-8a6d-4bea-f202-05701c3fb9a2"
      },
      "source": [
        "import random\n",
        "\n",
        "#### Print top-k documents retrieved ####\n",
        "top_k = 5\n",
        "\n",
        "query_id, ranking_scores = random.choice(list(results.items()))\n",
        "scores_sorted = sorted(ranking_scores.items(), key=lambda item: item[1], reverse=True)\n",
        "print(\"Query : %s\\n\" % queries[query_id])\n",
        "\n",
        "for rank in range(top_k):\n",
        "    doc_id = scores_sorted[rank][0]\n",
        "    # Format: Rank x: ID [Title] Body\n",
        "    print(\"Rank %d: %s [%s] - %s\\n\" % (rank+1, doc_id, corpus[doc_id].get(\"title\"), corpus[doc_id].get(\"text\")))"
      ],
      "execution_count": 9,
      "outputs": [
        {
          "output_type": "stream",
          "name": "stdout",
          "text": [
            "Query : Peroxynitrite is vereist voor de filtratie van TCR/CD8.\n",
            "\n",
            "Rank 1: 6784372 [Meerdere afbraakroutes regelen veelzijdige CIP/KIP CDK-remmers.] - De zoogdier CIP/KIP-familie van cycline-afhankelijke kinase (CDK) remmers (CKI's) bestaat uit drie eiwitten--p21(Cip1/WAF1), p27(Kip1), en p57(Kip2) -- die cycline-CDK complexen binden en remmen, die de belangrijkste regulators van de celcyclus zijn. CIP/KIP CKI's hebben extra onafhankelijke functies in het reguleren van transcriptie, apoptose en actin cytoskelet dynamica. Deze uiteenlopende functies worden uitgevoerd in verschillende celcompartimenten en dragen bij tot de schijnbaar tegenstrijdige observatie dat de CKI's zowel kanker kunnen onderdrukken als bevorderen. Meerdere ubiquitin ligases (E3s) sturen de proteasoom-gemedieerde afbraak van p21, p27 en p57. Deze beoordeling analyseert recente gegevens over ons huidige inzicht in hoe verschillende E3 routes subpopulaties van de CKI's reguleren om hun diverse functies te beheersen.\n",
            "\n",
            "Rank 2: 2405259 [Tet2 is vereist om ontsteking op te lossen door het werven van Hdac2 om specifiek te onderdrukken IL-6] - Epigenetische modificaties hebben een fundamentele rol in het definiëren van unieke cellulaire identiteit door de vaststelling en het onderhoud van lijn-specifieke chromatine en methylation status. Verschillende DNA-modificaties zoals 5-hydroxymethylcytosine (5hmC) worden gekatalyseerd door de tien elf translocatie (Tet) methylcytosinase familieleden, en de rollen van Tet eiwitten in het reguleren van chromatine architectuur en gen transcriptie onafhankelijk van DNA methylering zijn geleidelijk aan blootgelegd. Echter, de regulering van immuniteit en ontsteking door Tet eiwitten onafhankelijk van hun rol in het moduleren van DNA methylering blijft grotendeels onbekend. Hier laten we zien dat Tet2 selectief bemiddelt actieve onderdrukking van interleukin-6 (IL-6) transcriptie tijdens ontstekingsresolutie in aangeboren myeloïde cellen, waaronder dendritische cellen en macrofagen. Verlies van Tet2 resulteerde in de upregulation van verschillende inflammatoire bemiddelaars, waaronder IL-6, in de late fase van de reactie op lipopolysaccharide uitdaging. Tet2-deficiënte muizen waren meer vatbaar voor shock en dextran- fosfatase-propreseditis, die een ernstige inflammatoire representatieve en verhoogde fenotype en verhoogde I-type Iκ-6L-6.\n",
            "\n",
            "Rank 3: 35828148 [Kinetisch bewijs voor snelle oxidatie van (-)-epicatechin door humaan myeloperoxidase.] - Apocynine is gemeld dat dimerisatie door myeloperoxidase (MPO) vereist is om leukocyten-NADPHoxidase te remmen. (-)-Epicatechin, een voedingsflavan-3-ol, is geïdentificeerd als een 'prodrug' van apocynine-achtige metabolieten die endotheliale NADPHoxidase-activiteit remmen en het cellulaire niveau van stikstofoxide verhogen. Sinds (-)-epicatechin is voorlopig geïdentificeerd als substraat van MPO, hebben we de one-elektron oxidatie van (-)-epicatechin door MPO bestudeerd. Door het gebruik van multi-mixing stopped-flow techniek, tonen we aan dat (-)-epicatechin is een van de meest efficiënte elektronendonoren voor heme peroxidases tot nu toe onderzocht. Tweede ordesnelheid constanten voor de (-)-epicatechin-gemedieerde omzetting van MPO-compound I naar verbinding II en verbinding II naar rustenzym werd geschat op 1,9 x 10(7) en 4.5 x 10(6) M(-1) M(-1), respectievelijk (pH 7, 25 graden Capicatechin).\n",
            "\n",
            "Rank 4: 20457190 [Biochemische verschillen in de alfabeta T-celreceptor.CD3 oppervlaktecomplex tussen CD8+ en CD4+ humane volwassen T-lymfocyten.] - We hebben gemeld het bestaan van biochemische en conformationale verschillen in de alfabeta T cel receptor (TCR) complex tussen CD4(+) en CD8(+) CD3gamma-deficiënte (gamma(-)) volwassen T cellen. In de huidige studie, hebben we ons begrip en uitgebreid de observaties tot primaire T lymfocyten van normale (gamma(+)) individuen. Oppervlakte TCR.CD3 componenten van CD4(+) gamma(-) T cellen, andere dan CD3gamma, waren detecteerbaar en vergelijkbaar in grootte met CD4(+) gamma(+) controles. Hun oorspronkelijke TCR.CD3 complex was ook vergelijkbaar met CD4(+) gamma(+) controles, behalve voor een alfabeta(deltaepsilon)(2)zeta(2) in plaats van een alfabetagammaepsilondeltaepsilonzeta(2) stoichiometrie. In tegenstelling, de oppervlakte TCRα, TCR3delta ketens van CD8(+) gamma() T cellen niet bezitten hun gebruikelijke maten.. Blue native gels (BN-PAGE) demonstreerden het bestaan van een heterogene populatie van TCR.CD3 in deze cellen. Met behulp van primaire perifere bloed T lymfocyten van normale (gamma(+)) donoren, voerden we een brede epitopische scan uit. In tegenstelling tot alle andere TCR.CD3-specifieke monoklonale antilichamen, RW2-8C8 gekleurd CD8(+) beter dan CD4(+) T cellen, en het verschil was afhankelijk van glycosylatie van de TCR.CD3 complex maar onafhankelijk van T cel activatie of differentiatie. RW2-8C8 vlekken van CD8(+) T cellen bleek meer afhankelijk te zijn van lipideraft integriteit dan die van CD4(+) T cellen. Tenslotte, immunopriectation studies op gezuiverd primaire CD4(+) en CD8(+) T cellen onthulden het bestaan van TCR glycosylation verschillen tussen de twee.\n",
            "\n",
            "Rank 5: 30507607 [Een Oct4-Centered Protein Interaction Network in Embryonic Stam Cells] - Transcriptie factoren, zoals Oct4, zijn cruciaal voor het vaststellen en handhaven van pluripotent celidentiteit. Terwijl de genomische locaties van verschillende pluripotency transcriptie factoren zijn gemeld, is het spectrum van hun interactie partners onderbelicht. Hier gebruiken we een verbeterde affiniteit protocol om Oct4-interactieve eiwitten te zuiveren van muis embryonale stamcellen (ESC's). Latere zuivering van Oct4 partners Sall4, Tcpcp2l1, Dax1, en Esrrb resulteerden in een Oct4 interactoom van 166 eiwitten, waaronder transcriptiefactoren en chromatin-modificerende complexen met gedocumenteerde rollen in zelfvernieuwing, maar ook vele factoren die niet eerder geassocieerd zijn met het ESC-netwerk. We vinden dat Esrrb geassocieerd met de basale transcriptie machines en ook interacties tussen transcriptiefactoren en componenten van de TGF-beta, Notch en Wnt signaaltrajecten detecteren. Acute uitputting van Oct4 verminderde binding van Tcsccp2l1, Dax1, en Esrrb tot verschillende doelgenen.\n",
            "\n"
          ]
        }
      ]
    },
    {
      "cell_type": "markdown",
      "metadata": {
        "id": "wfiEjuXAATkZ"
      },
      "source": [
        "# **Reranking using Cross-Encoder**\n",
        "\n",
        "In this example, we rerank the top-20 documents retrieved from embedding model, using ([robbert-2023-dutch-base-cross-encoder](https://huggingface.co/NetherlandsForensicInstitute/robbert-2023-dutch-base-cross-encoder)) SBERT cross-encoder model"
      ]
    },
    {
      "cell_type": "code",
      "metadata": {
        "colab": {
          "base_uri": "https://localhost:8080/",
          "height": 49,
          "referenced_widgets": [
            "6282c8768f9b4043843e7f05cf56e79c",
            "a20d39100e3249e2ac9e8f6dfb8df60f",
            "644ca2aca17b4471a3c4ae3f8d16dfc9",
            "f73be28550ac4368bfb02cc96e1f6ee6",
            "a0329b8caba147918e5ae2093f8c4105",
            "6b1e46d9dbc247e0b58bc035dd302238",
            "3ce3ab93c6a94dbfab4817ba208b59e0",
            "6959936f76574812afbdf4d1c0ccd535",
            "71540c91220d47b58ead911c51a0fd56",
            "4f11871de16c4703a337857167517e1e",
            "51c3a97877784fe081af8d5e44065f08"
          ]
        },
        "id": "ILM1SNXdAGhn",
        "outputId": "ad420f48-0e35-4afe-bb4e-a505a73ef68f"
      },
      "source": [
        "from beir.reranking.models import CrossEncoder\n",
        "from beir.reranking import Rerank\n",
        "\n",
        "#### Reranking using Cross-Encoder models (list: )\n",
        "cross_encoder_model = CrossEncoder(cross_encoder_model_name)\n",
        "reranker = Rerank(cross_encoder_model, batch_size=128)\n",
        "\n",
        "# Rerank top-20 results using the reranker provided\n",
        "rerank_results = reranker.rerank(corpus, queries, results, top_k=20)"
      ],
      "execution_count": 10,
      "outputs": [
        {
          "output_type": "display_data",
          "data": {
            "text/plain": [
              "Batches:   0%|          | 0/47 [00:00<?, ?it/s]"
            ],
            "application/vnd.jupyter.widget-view+json": {
              "version_major": 2,
              "version_minor": 0,
              "model_id": "6282c8768f9b4043843e7f05cf56e79c"
            }
          },
          "metadata": {}
        }
      ]
    },
    {
      "cell_type": "code",
      "metadata": {
        "id": "tC2L6VWtAS5J"
      },
      "source": [
        "#### Evaluate your retrieval using NDCG@k, MAP@K ...\n",
        "ndcg_r, _map_r, recall_r, precision_r = EvaluateRetrieval.evaluate(qrels, rerank_results, retriever.k_values)"
      ],
      "execution_count": 11,
      "outputs": []
    },
    {
      "cell_type": "code",
      "source": [
        "print(f'Without reranking, the information retrieval evaluation metrics on {data_path} by {model_name} are')\n",
        "print(ndcg)\n",
        "print(_map)\n",
        "print(recall)\n",
        "print(precision)\n",
        "\n",
        "print(f'After Reranking results of {model_name} with crossencoder {cross_encoder_model_name}, the evaluation metrics are:')\n",
        "print(ndcg_r)\n",
        "print(_map_r)\n",
        "print(recall_r)\n",
        "print(precision_r)\n"
      ],
      "metadata": {
        "colab": {
          "base_uri": "https://localhost:8080/"
        },
        "id": "0piUfXPjcWHJ",
        "outputId": "08f1d3df-3b7c-43c3-f056-5cda5ce6b3bc"
      },
      "execution_count": 12,
      "outputs": [
        {
          "output_type": "stream",
          "name": "stdout",
          "text": [
            "Without reranking, the information retrieval evaluation metrics on datasets/scifact-nl by NetherlandsForensicInstitute/robbert-2022-dutch-sentence-transformers are\n",
            "{'NDCG@1': 0.32, 'NDCG@3': 0.36713, 'NDCG@5': 0.39326, 'NDCG@10': 0.41025, 'NDCG@100': 0.46031, 'NDCG@1000': 0.48366}\n",
            "{'MAP@1': 0.29917, 'MAP@3': 0.34491, 'MAP@5': 0.36095, 'MAP@10': 0.36861, 'MAP@100': 0.37906, 'MAP@1000': 0.37983}\n",
            "{'Recall@1': 0.29917, 'Recall@3': 0.40339, 'Recall@5': 0.46611, 'Recall@10': 0.51744, 'Recall@100': 0.75478, 'Recall@1000': 0.941}\n",
            "{'P@1': 0.32, 'P@3': 0.14778, 'P@5': 0.106, 'P@10': 0.05933, 'P@100': 0.00857, 'P@1000': 0.00107}\n",
            "After Reranking results of NetherlandsForensicInstitute/robbert-2022-dutch-sentence-transformers with crossencoder NetherlandsForensicInstitute/robbert-2023-dutch-base-cross-encoder, the evaluation metrics are:\n",
            "{'NDCG@1': 0.40667, 'NDCG@3': 0.45319, 'NDCG@5': 0.47512, 'NDCG@10': 0.48698, 'NDCG@100': 0.49127, 'NDCG@1000': 0.49127}\n",
            "{'MAP@1': 0.3815, 'MAP@3': 0.43263, 'MAP@5': 0.44654, 'MAP@10': 0.4523, 'MAP@100': 0.45381, 'MAP@1000': 0.45381}\n",
            "{'Recall@1': 0.3815, 'Recall@3': 0.4855, 'Recall@5': 0.53961, 'Recall@10': 0.57189, 'Recall@100': 0.58772, 'Recall@1000': 0.58772}\n",
            "{'P@1': 0.40667, 'P@3': 0.17778, 'P@5': 0.12067, 'P@10': 0.06567, 'P@100': 0.00677, 'P@1000': 0.00068}\n"
          ]
        }
      ]
    },
    {
      "cell_type": "markdown",
      "source": [
        "## Good Results!\n",
        "\n",
        "On the scifact-nl dataset, reranking results by the robbert-2023-dutch-base-cross-encoder cross encoder leads to a significant improvement of evaluation metrics!\n",
        "\n",
        "- NDCG@10: 0.41 -> 0.49\n",
        "  - NDCG@10 is the standard metric in [MTEB](https://huggingface.co/spaces/mteb/leaderboard) and also takes into account the ranking of the correct result.\n",
        "- Recall@1: 0.30 -> 0.38\n",
        " - Recall@1: Placing the most relevant document at the top (because in scifact, there is only one relevant document per query)\n",
        "- Recall@5: 0.47 -> 0.54\n",
        "  - Recall@5: How often is the correct search result in the top 5, is interesting for RAG, because you can, for example, give the top 5 search results to an LLM to process it further.\n",
        "\n",
        "\n"
      ],
      "metadata": {
        "id": "WD9_mX6RcYMa"
      }
    }
  ]
}